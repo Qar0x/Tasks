{
 "cells": [
  {
   "cell_type": "code",
   "execution_count": 1,
   "id": "480a7c03",
   "metadata": {},
   "outputs": [],
   "source": [
    "import numpy as np\n",
    "from scipy.spatial.transform import Rotation"
   ]
  },
  {
   "cell_type": "markdown",
   "id": "21930b0a",
   "metadata": {},
   "source": [
    "Начальные параметры:\n",
    "    0: Задана точка в прострастве с координатами x = 1, y = 2, z = 3;\n",
    "    1: Простраство поворачивается по оси Y на угол в 45 градусов, т.е. pi/4;\n",
    "    2: Начало координат пространства сдвигается на вектор (3, 2, 1).\n",
    "Найти:\n",
    "    Координаты точки в новом прострастве."
   ]
  },
  {
   "cell_type": "code",
   "execution_count": 2,
   "id": "8795653f",
   "metadata": {},
   "outputs": [],
   "source": [
    "point =  np.array([1, 2, 3])\n",
    "angle = np.pi/4\n",
    "vector = np.array([3, 2, 1])"
   ]
  },
  {
   "cell_type": "markdown",
   "id": "1aac471e",
   "metadata": {},
   "source": [
    "Вращение пространства вокруг оси можно выполнить с помощью углов Эйлера. Поскольку происходит вращение вокруг одной лишь оси Y, то матрица поворота будет иметь следующий вид:\n",
    "rot = { \n",
    "        ( cos(a),    0,   sin(a) ),\n",
    "        ( 0,         1,   0      ),\n",
    "        ( -sin(a),   0,   cos(a) ),\n",
    "      },\n",
    "где a = angle = np.pi/4 - угол вращение по оси Y.\n",
    "\n",
    "Получим матрицу со следующими значениями:"
   ]
  },
  {
   "cell_type": "code",
   "execution_count": 11,
   "id": "59ea9fab",
   "metadata": {},
   "outputs": [
    {
     "data": {
      "text/plain": [
       "array([[[ 0.70710678,  0.        ,  0.70710678],\n",
       "        [ 0.        ,  1.        ,  0.        ],\n",
       "        [-0.70710678,  0.        ,  0.70710678]]])"
      ]
     },
     "execution_count": 11,
     "metadata": {},
     "output_type": "execute_result"
    }
   ],
   "source": [
    "rot = Rotation.from_euler('y', [angle]).as_matrix()\n",
    "rot"
   ]
  },
  {
   "cell_type": "markdown",
   "id": "609d6404",
   "metadata": {},
   "source": [
    "Новые координаты точки после вращение (x', y', z') будут равны поизведению матрицы поворота и вектора с координатами точки:\n",
    "rot_point = {\n",
    "                (x',         (x,\n",
    "                 y', = rot *  y,\n",
    "                 z')          z)\n",
    "            }"
   ]
  },
  {
   "cell_type": "code",
   "execution_count": 17,
   "id": "f60c7a32",
   "metadata": {},
   "outputs": [
    {
     "data": {
      "text/plain": [
       "array([2.82842712, 2.        , 1.41421356])"
      ]
     },
     "execution_count": 17,
     "metadata": {},
     "output_type": "execute_result"
    }
   ],
   "source": [
    "rot_point = np.squeeze(np.matmul(rot, point))\n",
    "rot_point"
   ]
  },
  {
   "cell_type": "markdown",
   "id": "0e4a6d23",
   "metadata": {},
   "source": [
    "Начало координат сдвигается с точки (0, 0, 0) в точку (3, 2, 1). Это означает, что новые координаты точки new_point = (x'', y'', z'') =  rot_point - vector."
   ]
  },
  {
   "cell_type": "code",
   "execution_count": 19,
   "id": "4c661415",
   "metadata": {},
   "outputs": [
    {
     "data": {
      "text/plain": [
       "array([-0.17157288,  0.        ,  0.41421356])"
      ]
     },
     "execution_count": 19,
     "metadata": {},
     "output_type": "execute_result"
    }
   ],
   "source": [
    "new_point = rot_point - vector\n",
    "new_point"
   ]
  },
  {
   "cell_type": "markdown",
   "id": "7fddd1db",
   "metadata": {},
   "source": [
    "Таким образом координаты точки изменились с (3, 2, 1) на (-0.17, 0, 0.41)."
   ]
  }
 ],
 "metadata": {
  "kernelspec": {
   "display_name": "Python 3 (ipykernel)",
   "language": "python",
   "name": "python3"
  },
  "language_info": {
   "codemirror_mode": {
    "name": "ipython",
    "version": 3
   },
   "file_extension": ".py",
   "mimetype": "text/x-python",
   "name": "python",
   "nbconvert_exporter": "python",
   "pygments_lexer": "ipython3",
   "version": "3.10.9"
  }
 },
 "nbformat": 4,
 "nbformat_minor": 5
}
